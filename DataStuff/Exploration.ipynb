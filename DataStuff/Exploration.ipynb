{
 "cells": [
  {
   "cell_type": "markdown",
   "metadata": {},
   "source": [
    "**Data Exploration**"
   ]
  },
  {
   "cell_type": "code",
   "execution_count": 28,
   "metadata": {},
   "outputs": [],
   "source": [
    "# imports\n",
    "# Loading necessary libraries\n",
    "import pandas as pd\n",
    "import matplotlib.pyplot as plt\n",
    "import numpy as np\n",
    "import os"
   ]
  },
  {
   "cell_type": "code",
   "execution_count": 29,
   "metadata": {},
   "outputs": [
    {
     "name": "stdout",
     "output_type": "stream",
     "text": [
      "<class 'pandas.core.frame.DataFrame'>\n",
      "RangeIndex: 27550 entries, 0 to 27549\n",
      "Data columns (total 51 columns):\n",
      " #   Column                 Non-Null Count  Dtype  \n",
      "---  ------                 --------------  -----  \n",
      " 0   uuid                   27550 non-null  object \n",
      " 1   datetime               27550 non-null  object \n",
      " 2   cough_detected         27550 non-null  float64\n",
      " 3   SNR                    27550 non-null  float64\n",
      " 4   latitude               16084 non-null  float64\n",
      " 5   longitude              16084 non-null  float64\n",
      " 6   age                    15218 non-null  float64\n",
      " 7   gender                 16224 non-null  object \n",
      " 8   respiratory_condition  16224 non-null  object \n",
      " 9   fever_muscle_pain      16224 non-null  object \n",
      " 10  status                 16224 non-null  object \n",
      " 11  quality_1              820 non-null    object \n",
      " 12  cough_type_1           802 non-null    object \n",
      " 13  dyspnea_1              820 non-null    object \n",
      " 14  wheezing_1             820 non-null    object \n",
      " 15  stridor_1              820 non-null    object \n",
      " 16  choking_1              820 non-null    object \n",
      " 17  congestion_1           820 non-null    object \n",
      " 18  nothing_1              820 non-null    object \n",
      " 19  diagnosis_1            802 non-null    object \n",
      " 20  severity_1             802 non-null    object \n",
      " 21  quality_2              820 non-null    object \n",
      " 22  cough_type_2           801 non-null    object \n",
      " 23  dyspnea_2              820 non-null    object \n",
      " 24  wheezing_2             820 non-null    object \n",
      " 25  stridor_2              820 non-null    object \n",
      " 26  choking_2              820 non-null    object \n",
      " 27  congestion_2           820 non-null    object \n",
      " 28  nothing_2              820 non-null    object \n",
      " 29  diagnosis_2            802 non-null    object \n",
      " 30  severity_2             802 non-null    object \n",
      " 31  quality_3              820 non-null    object \n",
      " 32  cough_type_3           795 non-null    object \n",
      " 33  dyspnea_3              820 non-null    object \n",
      " 34  wheezing_3             820 non-null    object \n",
      " 35  stridor_3              820 non-null    object \n",
      " 36  choking_3              820 non-null    object \n",
      " 37  congestion_3           820 non-null    object \n",
      " 38  nothing_3              820 non-null    object \n",
      " 39  diagnosis_3            792 non-null    object \n",
      " 40  severity_3             795 non-null    object \n",
      " 41  quality_4              820 non-null    object \n",
      " 42  cough_type_4           801 non-null    object \n",
      " 43  dyspnea_4              820 non-null    object \n",
      " 44  wheezing_4             820 non-null    object \n",
      " 45  stridor_4              820 non-null    object \n",
      " 46  choking_4              820 non-null    object \n",
      " 47  congestion_4           820 non-null    object \n",
      " 48  nothing_4              820 non-null    object \n",
      " 49  diagnosis_4            789 non-null    object \n",
      " 50  severity_4             799 non-null    object \n",
      "dtypes: float64(5), object(46)\n",
      "memory usage: 10.7+ MB\n",
      "(27550, 51)\n",
      "Number of extra files in the archive: 0\n",
      "Number of missing files in the archive: 1565\n",
      "New cleaned dataset shape: (25985, 51)\n"
     ]
    }
   ],
   "source": [
    "# Load the original dataset\n",
    "file_path = '/Users/lamine/Documents/CS Senior Design/Code/archive/metadata_compiled.csv'\n",
    "metadata_df = pd.read_csv(file_path)\n",
    "\n",
    "# Displaying basic information about the dataset\n",
    "metadata_df.info()\n",
    "\n",
    "# Path for the archive folder containing the audio files\n",
    "archive_folder = '/Users/lamine/Documents/CS Senior Design/Code/archive/'\n",
    "\n",
    "# Get the list of .webm files in the archive folder\n",
    "webm_files_in_archive = [file for file in os.listdir(archive_folder) if file.endswith('.webm')]\n",
    "\n",
    "# Extract the UUIDs from the webm files (removing .webm extension)\n",
    "uuids_in_archive = set([file.replace('.webm', '') for file in webm_files_in_archive])\n",
    "\n",
    "# Get the UUIDs from the metadata dataframe\n",
    "uuids_in_metadata = set(metadata_df['uuid'])\n",
    "\n",
    "# Step 1: Count the audio files in the folder that do not exist in the dataframe\n",
    "extra_files_in_archive = uuids_in_archive - uuids_in_metadata\n",
    "extra_files_count = len(extra_files_in_archive)\n",
    "\n",
    "# Step 2: Find the UUIDs that exist in the dataframe but do not exist in the folder\n",
    "missing_files_in_archive = uuids_in_metadata - uuids_in_archive\n",
    "missing_files_count = len(missing_files_in_archive)\n",
    "\n",
    "# Step 3: Remove the rows from the dataframe that have missing files in the archive\n",
    "metadata_df_cleaned = metadata_df[~metadata_df['uuid'].isin(missing_files_in_archive)]\n",
    "\n",
    "# Output the results\n",
    "print(metadata_df.shape)\n",
    "print(f\"Number of extra files in the archive: {extra_files_count}\")\n",
    "print(f\"Number of missing files in the archive: {missing_files_count}\")\n",
    "print(f\"New cleaned dataset shape: {metadata_df_cleaned.shape}\")\n",
    "\n",
    "metadata_df = metadata_df_cleaned\n"
   ]
  },
  {
   "cell_type": "code",
   "execution_count": 30,
   "metadata": {},
   "outputs": [
    {
     "data": {
      "text/html": [
       "<div>\n",
       "<style scoped>\n",
       "    .dataframe tbody tr th:only-of-type {\n",
       "        vertical-align: middle;\n",
       "    }\n",
       "\n",
       "    .dataframe tbody tr th {\n",
       "        vertical-align: top;\n",
       "    }\n",
       "\n",
       "    .dataframe thead th {\n",
       "        text-align: right;\n",
       "    }\n",
       "</style>\n",
       "<table border=\"1\" class=\"dataframe\">\n",
       "  <thead>\n",
       "    <tr style=\"text-align: right;\">\n",
       "      <th></th>\n",
       "      <th>uuid</th>\n",
       "      <th>datetime</th>\n",
       "      <th>cough_detected</th>\n",
       "      <th>SNR</th>\n",
       "      <th>latitude</th>\n",
       "      <th>longitude</th>\n",
       "      <th>age</th>\n",
       "      <th>gender</th>\n",
       "      <th>respiratory_condition</th>\n",
       "      <th>fever_muscle_pain</th>\n",
       "      <th>...</th>\n",
       "      <th>quality_4</th>\n",
       "      <th>cough_type_4</th>\n",
       "      <th>dyspnea_4</th>\n",
       "      <th>wheezing_4</th>\n",
       "      <th>stridor_4</th>\n",
       "      <th>choking_4</th>\n",
       "      <th>congestion_4</th>\n",
       "      <th>nothing_4</th>\n",
       "      <th>diagnosis_4</th>\n",
       "      <th>severity_4</th>\n",
       "    </tr>\n",
       "  </thead>\n",
       "  <tbody>\n",
       "    <tr>\n",
       "      <th>0</th>\n",
       "      <td>00014dcc-0f06-4c27-8c7b-737b18a2cf4c</td>\n",
       "      <td>2020-11-25T18:58:50.488301+00:00</td>\n",
       "      <td>0.0155</td>\n",
       "      <td>7.326171</td>\n",
       "      <td>48.9</td>\n",
       "      <td>2.4</td>\n",
       "      <td>NaN</td>\n",
       "      <td>NaN</td>\n",
       "      <td>NaN</td>\n",
       "      <td>NaN</td>\n",
       "      <td>...</td>\n",
       "      <td>NaN</td>\n",
       "      <td>NaN</td>\n",
       "      <td>NaN</td>\n",
       "      <td>NaN</td>\n",
       "      <td>NaN</td>\n",
       "      <td>NaN</td>\n",
       "      <td>NaN</td>\n",
       "      <td>NaN</td>\n",
       "      <td>NaN</td>\n",
       "      <td>NaN</td>\n",
       "    </tr>\n",
       "    <tr>\n",
       "      <th>1</th>\n",
       "      <td>00039425-7f3a-42aa-ac13-834aaa2b6b92</td>\n",
       "      <td>2020-04-13T21:30:59.801831+00:00</td>\n",
       "      <td>0.9609</td>\n",
       "      <td>16.151433</td>\n",
       "      <td>31.3</td>\n",
       "      <td>34.8</td>\n",
       "      <td>15.0</td>\n",
       "      <td>male</td>\n",
       "      <td>False</td>\n",
       "      <td>False</td>\n",
       "      <td>...</td>\n",
       "      <td>NaN</td>\n",
       "      <td>NaN</td>\n",
       "      <td>NaN</td>\n",
       "      <td>NaN</td>\n",
       "      <td>NaN</td>\n",
       "      <td>NaN</td>\n",
       "      <td>NaN</td>\n",
       "      <td>NaN</td>\n",
       "      <td>NaN</td>\n",
       "      <td>NaN</td>\n",
       "    </tr>\n",
       "    <tr>\n",
       "      <th>2</th>\n",
       "      <td>0007c6f1-5441-40e6-9aaf-a761d8f2da3b</td>\n",
       "      <td>2020-10-18T15:38:38.205870+00:00</td>\n",
       "      <td>0.1643</td>\n",
       "      <td>16.217201</td>\n",
       "      <td>NaN</td>\n",
       "      <td>NaN</td>\n",
       "      <td>46.0</td>\n",
       "      <td>female</td>\n",
       "      <td>False</td>\n",
       "      <td>False</td>\n",
       "      <td>...</td>\n",
       "      <td>NaN</td>\n",
       "      <td>NaN</td>\n",
       "      <td>NaN</td>\n",
       "      <td>NaN</td>\n",
       "      <td>NaN</td>\n",
       "      <td>NaN</td>\n",
       "      <td>NaN</td>\n",
       "      <td>NaN</td>\n",
       "      <td>NaN</td>\n",
       "      <td>NaN</td>\n",
       "    </tr>\n",
       "    <tr>\n",
       "      <th>3</th>\n",
       "      <td>0009eb28-d8be-4dc1-92bb-907e53bc5c7a</td>\n",
       "      <td>2020-04-12T04:02:18.159383+00:00</td>\n",
       "      <td>0.9301</td>\n",
       "      <td>20.146058</td>\n",
       "      <td>40.0</td>\n",
       "      <td>-75.1</td>\n",
       "      <td>34.0</td>\n",
       "      <td>male</td>\n",
       "      <td>True</td>\n",
       "      <td>False</td>\n",
       "      <td>...</td>\n",
       "      <td>NaN</td>\n",
       "      <td>NaN</td>\n",
       "      <td>NaN</td>\n",
       "      <td>NaN</td>\n",
       "      <td>NaN</td>\n",
       "      <td>NaN</td>\n",
       "      <td>NaN</td>\n",
       "      <td>NaN</td>\n",
       "      <td>NaN</td>\n",
       "      <td>NaN</td>\n",
       "    </tr>\n",
       "    <tr>\n",
       "      <th>4</th>\n",
       "      <td>0012c608-33d0-4ef7-bde3-75a0b1a0024e</td>\n",
       "      <td>2020-04-15T01:03:59.029326+00:00</td>\n",
       "      <td>0.0482</td>\n",
       "      <td>0.000000</td>\n",
       "      <td>-16.5</td>\n",
       "      <td>-71.5</td>\n",
       "      <td>NaN</td>\n",
       "      <td>NaN</td>\n",
       "      <td>NaN</td>\n",
       "      <td>NaN</td>\n",
       "      <td>...</td>\n",
       "      <td>NaN</td>\n",
       "      <td>NaN</td>\n",
       "      <td>NaN</td>\n",
       "      <td>NaN</td>\n",
       "      <td>NaN</td>\n",
       "      <td>NaN</td>\n",
       "      <td>NaN</td>\n",
       "      <td>NaN</td>\n",
       "      <td>NaN</td>\n",
       "      <td>NaN</td>\n",
       "    </tr>\n",
       "  </tbody>\n",
       "</table>\n",
       "<p>5 rows × 51 columns</p>\n",
       "</div>"
      ],
      "text/plain": [
       "                                   uuid                          datetime  \\\n",
       "0  00014dcc-0f06-4c27-8c7b-737b18a2cf4c  2020-11-25T18:58:50.488301+00:00   \n",
       "1  00039425-7f3a-42aa-ac13-834aaa2b6b92  2020-04-13T21:30:59.801831+00:00   \n",
       "2  0007c6f1-5441-40e6-9aaf-a761d8f2da3b  2020-10-18T15:38:38.205870+00:00   \n",
       "3  0009eb28-d8be-4dc1-92bb-907e53bc5c7a  2020-04-12T04:02:18.159383+00:00   \n",
       "4  0012c608-33d0-4ef7-bde3-75a0b1a0024e  2020-04-15T01:03:59.029326+00:00   \n",
       "\n",
       "   cough_detected        SNR  latitude  longitude   age  gender  \\\n",
       "0          0.0155   7.326171      48.9        2.4   NaN     NaN   \n",
       "1          0.9609  16.151433      31.3       34.8  15.0    male   \n",
       "2          0.1643  16.217201       NaN        NaN  46.0  female   \n",
       "3          0.9301  20.146058      40.0      -75.1  34.0    male   \n",
       "4          0.0482   0.000000     -16.5      -71.5   NaN     NaN   \n",
       "\n",
       "  respiratory_condition fever_muscle_pain  ... quality_4 cough_type_4  \\\n",
       "0                   NaN               NaN  ...       NaN          NaN   \n",
       "1                 False             False  ...       NaN          NaN   \n",
       "2                 False             False  ...       NaN          NaN   \n",
       "3                  True             False  ...       NaN          NaN   \n",
       "4                   NaN               NaN  ...       NaN          NaN   \n",
       "\n",
       "  dyspnea_4 wheezing_4 stridor_4 choking_4 congestion_4 nothing_4 diagnosis_4  \\\n",
       "0       NaN        NaN       NaN       NaN          NaN       NaN         NaN   \n",
       "1       NaN        NaN       NaN       NaN          NaN       NaN         NaN   \n",
       "2       NaN        NaN       NaN       NaN          NaN       NaN         NaN   \n",
       "3       NaN        NaN       NaN       NaN          NaN       NaN         NaN   \n",
       "4       NaN        NaN       NaN       NaN          NaN       NaN         NaN   \n",
       "\n",
       "  severity_4  \n",
       "0        NaN  \n",
       "1        NaN  \n",
       "2        NaN  \n",
       "3        NaN  \n",
       "4        NaN  \n",
       "\n",
       "[5 rows x 51 columns]"
      ]
     },
     "execution_count": 30,
     "metadata": {},
     "output_type": "execute_result"
    }
   ],
   "source": [
    "metadata_df.head()"
   ]
  },
  {
   "cell_type": "markdown",
   "metadata": {},
   "source": [
    "Rows with missing data"
   ]
  },
  {
   "cell_type": "code",
   "execution_count": 31,
   "metadata": {},
   "outputs": [
    {
     "name": "stdout",
     "output_type": "stream",
     "text": [
      "Number of rows with missing data: 25919\n",
      "Number of valid rows in 'status' column: 15244 out of 25985\n"
     ]
    }
   ],
   "source": [
    "# Count the number of rows with missing data\n",
    "rows_with_missing_data = metadata_df.isnull().any(axis=1).sum()\n",
    "\n",
    "# Count the number of valid rows in the 'status' column\n",
    "valid_status_rows = metadata_df['status'].notnull().sum()\n",
    "total_rows = metadata_df.shape[0]\n",
    "\n",
    "# Print the results\n",
    "print(f\"Number of rows with missing data: {rows_with_missing_data}\")\n",
    "print(f\"Number of valid rows in 'status' column: {valid_status_rows} out of {total_rows}\")\n"
   ]
  },
  {
   "cell_type": "markdown",
   "metadata": {},
   "source": [
    "Bar diagram for all columns"
   ]
  },
  {
   "cell_type": "code",
   "execution_count": 32,
   "metadata": {},
   "outputs": [
    {
     "data": {
      "image/png": "[encoded data removed]",
      "text/plain": [
       "<Figure size 1200x800 with 1 Axes>"
      ]
     },
     "metadata": {},
     "output_type": "display_data"
    }
   ],
   "source": [
    "# Get the count of valid (non-null) rows for each column\n",
    "valid_counts = metadata_df.notnull().sum()\n",
    "\n",
    "# Plotting the bar diagram\n",
    "plt.figure(figsize=(12, 8))\n",
    "valid_counts.plot(kind='bar')\n",
    "plt.title('Number of Valid Rows for Each Attribute')\n",
    "plt.xlabel('Attributes')\n",
    "plt.ylabel('Number of Valid Rows')\n",
    "plt.xticks(rotation=90)\n",
    "plt.tight_layout()\n",
    "\n",
    "# Show the plot\n",
    "plt.show()"
   ]
  },
  {
   "cell_type": "markdown",
   "metadata": {},
   "source": [
    "Focus on \"status\" attribute that needs to be predicted"
   ]
  },
  {
   "cell_type": "code",
   "execution_count": 33,
   "metadata": {},
   "outputs": [
    {
     "data": {
      "image/png": "[encoded data removed]",
      "text/plain": [
       "<Figure size 800x600 with 1 Axes>"
      ]
     },
     "metadata": {},
     "output_type": "display_data"
    },
    {
     "name": "stdout",
     "output_type": "stream",
     "text": [
      "status\n",
      "healthy        11715\n",
      "symptomatic     2411\n",
      "COVID-19        1118\n",
      "Name: count, dtype: int64\n"
     ]
    }
   ],
   "source": [
    "# Count the distribution of values in the 'status' column\n",
    "status_distribution = metadata_df['status'].value_counts()\n",
    "\n",
    "# Plotting the bar diagram for 'status' column distribution\n",
    "plt.figure(figsize=(8, 6))\n",
    "status_distribution.plot(kind='bar', color='skyblue')\n",
    "plt.title('Distribution of Values in the Status Column')\n",
    "plt.xlabel('Status')\n",
    "plt.ylabel('Count')\n",
    "plt.xticks(rotation=45)\n",
    "plt.tight_layout()\n",
    "\n",
    "# Show the plot\n",
    "plt.show()\n",
    "\n",
    "# print the counts for status column\n",
    "print(status_distribution)"
   ]
  },
  {
   "cell_type": "markdown",
   "metadata": {},
   "source": [
    "Use undersampling to handle imbalanced dataset\n",
    "- Select the best 1118 samples from both the \"Healthy\" and \"Symptomatic\" groups by prioritizing rows that have the most valid (non-null) data across all columns. This way data points are picked with the most complete information first, and if reaching 1155 high-quality points is not possible, randomly select the remaining ones."
   ]
  },
  {
   "cell_type": "code",
   "execution_count": 44,
   "metadata": {},
   "outputs": [
    {
     "name": "stdout",
     "output_type": "stream",
     "text": [
      "(1118, 52)\n",
      "(1118, 52)\n",
      "<class 'pandas.core.frame.DataFrame'>\n",
      "Index: 3354 entries, 7 to 3595\n",
      "Data columns (total 52 columns):\n",
      " #   Column                 Non-Null Count  Dtype  \n",
      "---  ------                 --------------  -----  \n",
      " 0   uuid                   3354 non-null   object \n",
      " 1   datetime               3354 non-null   object \n",
      " 2   cough_detected         3354 non-null   float64\n",
      " 3   SNR                    3354 non-null   float64\n",
      " 4   latitude               2354 non-null   float64\n",
      " 5   longitude              2354 non-null   float64\n",
      " 6   age                    3099 non-null   float64\n",
      " 7   gender                 3354 non-null   object \n",
      " 8   respiratory_condition  3354 non-null   object \n",
      " 9   fever_muscle_pain      3354 non-null   object \n",
      " 10  status                 3354 non-null   object \n",
      " 11  quality_1              697 non-null    object \n",
      " 12  cough_type_1           689 non-null    object \n",
      " 13  dyspnea_1              697 non-null    object \n",
      " 14  wheezing_1             697 non-null    object \n",
      " 15  stridor_1              697 non-null    object \n",
      " 16  choking_1              697 non-null    object \n",
      " 17  congestion_1           697 non-null    object \n",
      " 18  nothing_1              697 non-null    object \n",
      " 19  diagnosis_1            689 non-null    object \n",
      " 20  severity_1             689 non-null    object \n",
      " 21  quality_2              692 non-null    object \n",
      " 22  cough_type_2           681 non-null    object \n",
      " 23  dyspnea_2              692 non-null    object \n",
      " 24  wheezing_2             692 non-null    object \n",
      " 25  stridor_2              692 non-null    object \n",
      " 26  choking_2              692 non-null    object \n",
      " 27  congestion_2           692 non-null    object \n",
      " 28  nothing_2              692 non-null    object \n",
      " 29  diagnosis_2            682 non-null    object \n",
      " 30  severity_2             682 non-null    object \n",
      " 31  quality_3              687 non-null    object \n",
      " 32  cough_type_3           673 non-null    object \n",
      " 33  dyspnea_3              687 non-null    object \n",
      " 34  wheezing_3             687 non-null    object \n",
      " 35  stridor_3              687 non-null    object \n",
      " 36  choking_3              687 non-null    object \n",
      " 37  congestion_3           687 non-null    object \n",
      " 38  nothing_3              687 non-null    object \n",
      " 39  diagnosis_3            670 non-null    object \n",
      " 40  severity_3             673 non-null    object \n",
      " 41  quality_4              737 non-null    object \n",
      " 42  cough_type_4           719 non-null    object \n",
      " 43  dyspnea_4              737 non-null    object \n",
      " 44  wheezing_4             737 non-null    object \n",
      " 45  stridor_4              737 non-null    object \n",
      " 46  choking_4              737 non-null    object \n",
      " 47  congestion_4           737 non-null    object \n",
      " 48  nothing_4              737 non-null    object \n",
      " 49  diagnosis_4            707 non-null    object \n",
      " 50  severity_4             717 non-null    object \n",
      " 51  valid_columns_count    2236 non-null   float64\n",
      "dtypes: float64(6), object(46)\n",
      "memory usage: 1.4+ MB\n"
     ]
    },
    {
     "name": "stderr",
     "output_type": "stream",
     "text": [
      "/var/folders/01/x_trt3n95_j48grf1z__n__m0000gn/T/ipykernel_8468/2757947007.py:7: SettingWithCopyWarning: \n",
      "A value is trying to be set on a copy of a slice from a DataFrame.\n",
      "Try using .loc[row_indexer,col_indexer] = value instead\n",
      "\n",
      "See the caveats in the documentation: https://pandas.pydata.org/pandas-docs/stable/user_guide/indexing.html#returning-a-view-versus-a-copy\n",
      "  healthy_df.loc[:, 'valid_columns_count'] = healthy_df.notnull().sum(axis=1)\n",
      "/var/folders/01/x_trt3n95_j48grf1z__n__m0000gn/T/ipykernel_8468/2757947007.py:8: SettingWithCopyWarning: \n",
      "A value is trying to be set on a copy of a slice from a DataFrame.\n",
      "Try using .loc[row_indexer,col_indexer] = value instead\n",
      "\n",
      "See the caveats in the documentation: https://pandas.pydata.org/pandas-docs/stable/user_guide/indexing.html#returning-a-view-versus-a-copy\n",
      "  symptomatic_df.loc[:, 'valid_columns_count'] = symptomatic_df.notnull().sum(axis=1)\n"
     ]
    },
    {
     "data": {
      "text/plain": [
       "(3354, 52)"
      ]
     },
     "execution_count": 44,
     "metadata": {},
     "output_type": "execute_result"
    }
   ],
   "source": [
    "# Step 1: Split the dataset into \"Healthy\", \"Symptomatic\", and \"COVID-19\" groups\n",
    "healthy_df = metadata_df[metadata_df['status'] == 'healthy']\n",
    "symptomatic_df = metadata_df[metadata_df['status'] == 'symptomatic']\n",
    "covid_df = metadata_df[metadata_df['status'] == 'COVID-19']\n",
    "\n",
    "# Step 2: Calculate the number of non-null values in each row for the \"Healthy\" and \"Symptomatic\" groups\n",
    "healthy_df.loc[:, 'valid_columns_count'] = healthy_df.notnull().sum(axis=1)\n",
    "symptomatic_df.loc[:, 'valid_columns_count'] = symptomatic_df.notnull().sum(axis=1)\n",
    "\n",
    "# Step 3: Sort each group by the number of valid columns in descending order\n",
    "healthy_sorted = healthy_df.sort_values(by='valid_columns_count', ascending=False)\n",
    "symptomatic_sorted = symptomatic_df.sort_values(by='valid_columns_count', ascending=False)\n",
    "\n",
    "# print(healthy_sorted.head(5))\n",
    "# print(symptomatic_sorted.head(5))\n",
    "\n",
    "# Step 4: Select the top 1118 from each group\n",
    "healthy_top = healthy_sorted.head(1118)\n",
    "symptomatic_top = symptomatic_sorted.head(1118)\n",
    "\n",
    "print(healthy_top.shape)\n",
    "print(symptomatic_top.shape)\n",
    "# Step 5: If there are not enough high-quality samples, fill the rest with random samples\n",
    "healthy_remaining = 1118 - len(healthy_top)\n",
    "if healthy_remaining > 0:\n",
    "    healthy_random = healthy_sorted.tail(healthy_remaining)\n",
    "    healthy_top = pd.concat([healthy_top, healthy_random])\n",
    "    print(\"adding to healthy\")\n",
    "\n",
    "symptomatic_remaining = 1118 - len(symptomatic_top)\n",
    "if symptomatic_remaining > 0:\n",
    "    symptomatic_random = symptomatic_sorted.tail(symptomatic_remaining)\n",
    "    symptomatic_top = pd.concat([symptomatic_top, symptomatic_random])\n",
    "    print(\"adding to symptomatic\")\n",
    "\n",
    "# Combine the selected \"Healthy\", \"Symptomatic\", and all \"COVID-19\" data\n",
    "balanced_df = pd.concat([covid_df, healthy_top, symptomatic_top])\n",
    "\n",
    "# Show the resulting balanced dataset size and info\n",
    "balanced_df_info = balanced_df.info()\n",
    "balanced_df_size = balanced_df.shape\n",
    "\n",
    "balanced_df_size"
   ]
  },
  {
   "cell_type": "markdown",
   "metadata": {},
   "source": [
    "check if everything is good and display bar graph of balanced dataset"
   ]
  },
  {
   "cell_type": "code",
   "execution_count": 45,
   "metadata": {},
   "outputs": [
    {
     "data": {
      "image/png": "[encoded data removed]",
      "text/plain": [
       "<Figure size 800x600 with 1 Axes>"
      ]
     },
     "metadata": {},
     "output_type": "display_data"
    },
    {
     "data": {
      "text/plain": [
       "status\n",
       "COVID-19       1118\n",
       "healthy        1118\n",
       "symptomatic    1118\n",
       "Name: count, dtype: int64"
      ]
     },
     "execution_count": 45,
     "metadata": {},
     "output_type": "execute_result"
    }
   ],
   "source": [
    "# Step 1: Remove the 'valid_columns_count' column\n",
    "balanced_df = balanced_df.drop(columns=['valid_columns_count'])\n",
    "\n",
    "# Step 2: Ensure that all datapoints are distinct and unique\n",
    "balanced_df = balanced_df.drop_duplicates()\n",
    "\n",
    "# Step 3: Print the count for each value in the 'status' column again\n",
    "new_status_distribution = balanced_df['status'].value_counts()\n",
    "\n",
    "# Step 4: Plot the bar diagram for the new 'status' distribution\n",
    "plt.figure(figsize=(8, 6))\n",
    "new_status_distribution.plot(kind='bar', color='lightgreen')\n",
    "plt.title('Distribution of Values in the Status Column (Balanced Dataset)')\n",
    "plt.xlabel('Status')\n",
    "plt.ylabel('Count')\n",
    "plt.xticks(rotation=45)\n",
    "plt.tight_layout()\n",
    "\n",
    "# Show the plot\n",
    "plt.show()\n",
    "\n",
    "# Print the new status distribution\n",
    "new_status_distribution\n"
   ]
  },
  {
   "cell_type": "markdown",
   "metadata": {},
   "source": [
    "Now we have choosen the datapoints that we are going to use for data transformation"
   ]
  },
  {
   "cell_type": "code",
   "execution_count": 54,
   "metadata": {},
   "outputs": [
    {
     "data": {
      "text/plain": [
       "\"Files corresponding to balanced dataset have been copied from 'archive' to 'Balanced_Data' folder.\""
      ]
     },
     "execution_count": 54,
     "metadata": {},
     "output_type": "execute_result"
    }
   ],
   "source": [
    "import os\n",
    "import shutil\n",
    "\n",
    "# Set the path for the current folder and the new \"Balanced_Data\" folder\n",
    "current_folder = '/Users/lamine/Documents/CS Senior Design/Code'\n",
    "new_folder = os.path.join(current_folder, 'Balanced_Data')\n",
    "# Define the path for the \"archive\" folder where the .webm files are stored\n",
    "archive_folder = os.path.join(current_folder, 'archive')\n",
    "\n",
    "\n",
    "# Create the new folder if it doesn't exist\n",
    "if not os.path.exists(new_folder):\n",
    "    os.makedirs(new_folder)\n",
    "\n",
    "# Get the list of UUIDs from the balanced dataset\n",
    "uuids = balanced_df['uuid'].tolist()\n",
    "\n",
    "# Loop through each UUID and copy the corresponding .webm file from the \"archive\" folder to the \"Balanced_Data\" folder\n",
    "for uuid in uuids:\n",
    "    file_name = f\"{uuid}.webm\"\n",
    "    src_file = os.path.join(archive_folder, file_name)\n",
    "    dest_file = os.path.join(new_folder, file_name)\n",
    "    \n",
    "    # Check if the file exists in the archive folder and copy it to the new folder\n",
    "    if os.path.exists(src_file):\n",
    "        shutil.copy(src_file, dest_file)\n",
    "\n",
    "# Print a message to confirm completion\n",
    "\"Files corresponding to balanced dataset have been copied from 'archive' to 'Balanced_Data' folder.\"\n"
   ]
  },
  {
   "cell_type": "markdown",
   "metadata": {},
   "source": [
    "check if the new folder has all the required files"
   ]
  },
  {
   "cell_type": "code",
   "execution_count": 62,
   "metadata": {},
   "outputs": [
    {
     "name": "stdout",
     "output_type": "stream",
     "text": [
      "Correct\n",
      "3354\n",
      "3354\n"
     ]
    }
   ],
   "source": [
    "# List all files in the new \"Balanced_Data\" folder\n",
    "files_in_balanced_data = os.listdir(new_folder)\n",
    "\n",
    "# Ensure that only files corresponding to the balanced dataset UUIDs exist in the folder\n",
    "files_in_balanced_data_set = set([file.replace('.webm', '') for file in files_in_balanced_data])\n",
    "uuids_set = set(uuids)\n",
    "\n",
    "# Check if the two sets match and if the file count is correct\n",
    "if files_in_balanced_data_set == uuids_set and len(files_in_balanced_data) == len(uuids):\n",
    "    result = \"Correct\"\n",
    "else:\n",
    "    result = \"Mismatch\"\n",
    "\n",
    "print(result)\n",
    "\n",
    "print(len(files_in_balanced_data_set))\n",
    "print(len(uuids_set))\n"
   ]
  },
  {
   "cell_type": "markdown",
   "metadata": {},
   "source": [
    "find which ones are missing and add them to the folder and then check again if both sets match"
   ]
  },
  {
   "cell_type": "code",
   "execution_count": 73,
   "metadata": {},
   "outputs": [],
   "source": [
    "# # Find missing UUIDs by comparing the set of expected UUIDs with the files in the folder\n",
    "# missing_uuids = uuids_set - files_in_balanced_data_set\n",
    "# print(len(missing_uuids))\n",
    "\n",
    "# # Copy the missing files from the \"archive\" folder to the \"Balanced_Data\" folder\n",
    "# for uuid in missing_uuids:\n",
    "#     file_name = f\"{uuid}.webm\"\n",
    "#     src_file = os.path.join(archive_folder, file_name)\n",
    "#     dest_file = os.path.join(new_folder, file_name)\n",
    "    \n",
    "#     # Check if the missing file exists in the archive folder and copy it\n",
    "#     if os.path.exists(src_file):\n",
    "#         shutil.copy(src_file, dest_file)\n",
    "\n",
    "# # Verify if the new folder now contains the correct number of files and matches the UUIDs set\n",
    "# files_in_balanced_data = os.listdir(new_folder)\n",
    "# files_in_balanced_data_set = set([file.replace('.webm', '') for file in files_in_balanced_data])\n",
    "\n",
    "# # Check if the two sets match and if the file count is correct\n",
    "# if files_in_balanced_data_set == uuids_set and len(files_in_balanced_data) == len(uuids):\n",
    "#     result = \"Correct\"\n",
    "# else:\n",
    "#     result = \"Mismatch\"\n",
    "\n",
    "# result\n",
    "\n",
    "# print(len(files_in_balanced_data_set))\n"
   ]
  },
  {
   "cell_type": "markdown",
   "metadata": {},
   "source": [
    "check issue with missing files and print them"
   ]
  },
  {
   "cell_type": "code",
   "execution_count": 72,
   "metadata": {},
   "outputs": [],
   "source": [
    "# # List and print the missing files that couldn't be copied\n",
    "# missing_files = []\n",
    "\n",
    "# for uuid in missing_uuids:\n",
    "#     file_name = f\"{uuid}.webm\"\n",
    "#     src_file = os.path.join(archive_folder, file_name)\n",
    "    \n",
    "#     # Check if the file exists in the archive, and if not, add it to the missing files list\n",
    "#     if not os.path.exists(src_file):\n",
    "#         missing_files.append(file_name)\n",
    "\n",
    "# missing_files\n"
   ]
  },
  {
   "cell_type": "markdown",
   "metadata": {},
   "source": [
    "Metadata is corrupted or incomplete (dataset as well)  \n",
    "missing files do not exist in the archive folder, even though their UUIDs are present in the metadata dataset"
   ]
  },
  {
   "cell_type": "markdown",
   "metadata": {},
   "source": [
    "find the number of covid 19 status datapoints from the balanced dataset that are in the new folder"
   ]
  },
  {
   "cell_type": "code",
   "execution_count": 71,
   "metadata": {},
   "outputs": [],
   "source": [
    "# # Filter the balanced dataset for COVID-19 status\n",
    "# covid_19_df = balanced_df[balanced_df['status'] == 'COVID-19']\n",
    "\n",
    "# # Get the list of UUIDs for COVID-19 status from the balanced dataset\n",
    "# covid_19_uuids = covid_19_df['uuid'].tolist()\n",
    "\n",
    "# # Check how many of these files are in the \"Balanced_Data\" folder\n",
    "# covid_19_files_in_folder = [uuid for uuid in covid_19_uuids if f\"{uuid}.webm\" in files_in_balanced_data]\n",
    "\n",
    "# # Count the number of COVID-19 files in the folder\n",
    "# len(covid_19_files_in_folder)"
   ]
  },
  {
   "cell_type": "markdown",
   "metadata": {},
   "source": [
    "there was originally 1155 covid 19 status in the entire dataset now in the new folder there is only 1118, check if the missing ones that exist in the dataset do not exist in the folder"
   ]
  },
  {
   "cell_type": "code",
   "execution_count": 70,
   "metadata": {},
   "outputs": [],
   "source": [
    "# # Find the COVID-19 UUIDs that are missing from the \"Balanced_Data\" folder\n",
    "# covid_19_missing_in_folder = [uuid for uuid in covid_19_uuids if f\"{uuid}.webm\" not in files_in_balanced_data]\n",
    "\n",
    "# # Get the count of missing files\n",
    "# len(covid_19_missing_in_folder), covid_19_missing_in_folder\n"
   ]
  },
  {
   "cell_type": "markdown",
   "metadata": {},
   "source": []
  },
  {
   "cell_type": "code",
   "execution_count": 69,
   "metadata": {},
   "outputs": [],
   "source": [
    "# # Count the number of files in the \"archive\" folder that end with \".webm\"\n",
    "# webm_files_in_archive = [file for file in os.listdir(archive_folder) if file.endswith('.webm')]\n",
    "# webm_file_count = len(webm_files_in_archive)\n",
    "\n",
    "# # Get the total number of rows in the metadata dataset\n",
    "# total_metadata_count = metadata_df.shape[0]\n",
    "\n",
    "# webm_file_count, total_metadata_count\n"
   ]
  },
  {
   "cell_type": "markdown",
   "metadata": {},
   "source": [
    "--------"
   ]
  },
  {
   "cell_type": "code",
   "execution_count": 68,
   "metadata": {},
   "outputs": [],
   "source": [
    "# # Load the original dataset\n",
    "# file_path = '/Users/lamine/Documents/CS Senior Design/Code/archive/metadata_compiled.csv'\n",
    "# metadata_df = pd.read_csv(file_path)\n",
    "\n",
    "# # Path for the archive folder containing the audio files\n",
    "# archive_folder = '/Users/lamine/Documents/CS Senior Design/Code/archive/'\n",
    "\n",
    "# # Get the list of .webm files in the archive folder\n",
    "# webm_files_in_archive = [file for file in os.listdir(archive_folder) if file.endswith('.webm')]\n",
    "\n",
    "# # Extract the UUIDs from the webm files (removing .webm extension)\n",
    "# uuids_in_archive = set([file.replace('.webm', '') for file in webm_files_in_archive])\n",
    "\n",
    "# # Get the UUIDs from the metadata dataframe\n",
    "# uuids_in_metadata = set(metadata_df['uuid'])\n",
    "\n",
    "# # Step 1: Count the audio files in the folder that do not exist in the dataframe\n",
    "# extra_files_in_archive = uuids_in_archive - uuids_in_metadata\n",
    "# extra_files_count = len(extra_files_in_archive)\n",
    "\n",
    "# # Step 2: Find the UUIDs that exist in the dataframe but do not exist in the folder\n",
    "# missing_files_in_archive = uuids_in_metadata - uuids_in_archive\n",
    "# missing_files_count = len(missing_files_in_archive)\n",
    "\n",
    "# # Step 3: Remove the rows from the dataframe that have missing files in the archive\n",
    "# metadata_df_cleaned = metadata_df[~metadata_df['uuid'].isin(missing_files_in_archive)]\n",
    "\n",
    "# # Output the results\n",
    "# print(metadata_df.shape)\n",
    "# print(f\"Number of extra files in the archive: {extra_files_count}\")\n",
    "# print(f\"Number of missing files in the archive: {missing_files_count}\")\n",
    "# print(f\"New cleaned dataset shape: {metadata_df_cleaned.shape}\")\n"
   ]
  },
  {
   "cell_type": "markdown",
   "metadata": {},
   "source": [
    "create a new CSV file containing only the data points that are present in the Balanced_Data folder and save it in the same folder."
   ]
  },
  {
   "cell_type": "code",
   "execution_count": 75,
   "metadata": {},
   "outputs": [
    {
     "name": "stdout",
     "output_type": "stream",
     "text": [
      "New CSV saved at: /Users/lamine/Documents/CS Senior Design/Code/Balanced_Data/balanced_metadata.csv\n"
     ]
    }
   ],
   "source": [
    "# Path to the Balanced_Data folder\n",
    "balanced_data_folder = '/Users/lamine/Documents/CS Senior Design/Code/Balanced_Data'\n",
    "\n",
    "# Create a new dataframe with the items that are in the Balanced_Data folder\n",
    "balanced_data_uuids = set([file.replace('.webm', '') for file in os.listdir(balanced_data_folder) if file.endswith('.webm')])\n",
    "balanced_df_original = metadata_df[metadata_df['uuid'].isin(balanced_data_uuids)]\n",
    "\n",
    "# Save the new dataframe as a CSV in the Balanced_Data folder\n",
    "new_csv_path = os.path.join(balanced_data_folder, 'balanced_metadata.csv')\n",
    "balanced_df_original.to_csv(new_csv_path, index=False)\n",
    "\n",
    "print(f\"New CSV saved at: {new_csv_path}\")"
   ]
  },
  {
   "cell_type": "markdown",
   "metadata": {},
   "source": [
    "Add the new column name with the format \"audio-{number}-natural\" for each row.  \n",
    "Rename the corresponding .webm files in the Balanced_Data folder.  \n",
    "Save the updated dataframe with the name column into a new CSV file.  "
   ]
  },
  {
   "cell_type": "code",
   "execution_count": 77,
   "metadata": {},
   "outputs": [
    {
     "name": "stdout",
     "output_type": "stream",
     "text": [
      "New CSV with names saved at: /Users/lamine/Documents/CS Senior Design/Code/Balanced_Data/balanced_metadata_with_names.csv\n"
     ]
    }
   ],
   "source": [
    "import os\n",
    "import pandas as pd\n",
    "\n",
    "# Load the balanced metadata CSV\n",
    "file_path = '/Users/lamine/Documents/CS Senior Design/Code/Balanced_Data/balanced_metadata.csv'\n",
    "balanced_df = pd.read_csv(file_path)\n",
    "\n",
    "# Add a new column 'name' to the dataframe with the required format\n",
    "balanced_df['name'] = [f\"audio-{i+1}-natural\" for i in range(len(balanced_df))]\n",
    "\n",
    "# Path to the Balanced_Data folder\n",
    "balanced_data_folder = '/Users/lamine/Documents/CS Senior Design/Code/Balanced_Data'\n",
    "\n",
    "# Rename the files in the Balanced_Data folder to match the new names\n",
    "for i, row in balanced_df.iterrows():\n",
    "    old_name = f\"{row['uuid']}.webm\"\n",
    "    new_name = f\"{row['name']}.webm\"\n",
    "    old_file_path = os.path.join(balanced_data_folder, old_name)\n",
    "    new_file_path = os.path.join(balanced_data_folder, new_name)\n",
    "    \n",
    "    # Rename the file if it exists\n",
    "    if os.path.exists(old_file_path):\n",
    "        os.rename(old_file_path, new_file_path)\n",
    "\n",
    "# Save the updated dataframe with the 'name' column to a new CSV\n",
    "new_csv_path = os.path.join(balanced_data_folder, 'balanced_metadata_with_names.csv')\n",
    "balanced_df.to_csv(new_csv_path, index=False)\n",
    "\n",
    "print(f\"New CSV with names saved at: {new_csv_path}\")\n"
   ]
  },
  {
   "cell_type": "markdown",
   "metadata": {},
   "source": [
    "### Will need to go back and listen to arround 3500 audios to make sure they are adequate for the task because this dataset needs a lot of work and some audios should be removed"
   ]
  },
  {
   "cell_type": "code",
   "execution_count": null,
   "metadata": {},
   "outputs": [],
   "source": []
  }
 ],
 "metadata": {
  "kernelspec": {
   "display_name": "pytorch_env",
   "language": "python",
   "name": "python3"
  },
  "language_info": {
   "codemirror_mode": {
    "name": "ipython",
    "version": 3
   },
   "file_extension": ".py",
   "mimetype": "text/x-python",
   "name": "python",
   "nbconvert_exporter": "python",
   "pygments_lexer": "ipython3",
   "version": "3.12.6"
  }
 },
 "nbformat": 4,
 "nbformat_minor": 2
}
